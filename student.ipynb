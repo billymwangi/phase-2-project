{
 "cells": [
  {
   "cell_type": "markdown",
   "metadata": {},
   "source": [
    "## Final Project Submission\n",
    "\n",
    "Please fill out:\n",
    "* Student name: \n",
    "* Student pace: self paced / part time / full time\n",
    "* Scheduled project review date/time: \n",
    "* Instructor name: \n",
    "* Blog post URL:\n"
   ]
  },
  {
   "cell_type": "markdown",
   "metadata": {},
   "source": [
    "# Data understanding"
   ]
  },
  {
   "cell_type": "code",
   "execution_count": 45,
   "metadata": {},
   "outputs": [],
   "source": [
    "# Importing relevant libraries\n",
    "import pandas as pd"
   ]
  },
  {
   "cell_type": "code",
   "execution_count": 46,
   "metadata": {},
   "outputs": [
    {
     "data": {
      "text/html": [
       "<div>\n",
       "<style scoped>\n",
       "    .dataframe tbody tr th:only-of-type {\n",
       "        vertical-align: middle;\n",
       "    }\n",
       "\n",
       "    .dataframe tbody tr th {\n",
       "        vertical-align: top;\n",
       "    }\n",
       "\n",
       "    .dataframe thead th {\n",
       "        text-align: right;\n",
       "    }\n",
       "</style>\n",
       "<table border=\"1\" class=\"dataframe\">\n",
       "  <thead>\n",
       "    <tr style=\"text-align: right;\">\n",
       "      <th></th>\n",
       "      <th>id</th>\n",
       "      <th>date</th>\n",
       "      <th>price</th>\n",
       "      <th>bedrooms</th>\n",
       "      <th>bathrooms</th>\n",
       "      <th>sqft_living</th>\n",
       "      <th>sqft_lot</th>\n",
       "      <th>floors</th>\n",
       "      <th>waterfront</th>\n",
       "      <th>view</th>\n",
       "      <th>...</th>\n",
       "      <th>grade</th>\n",
       "      <th>sqft_above</th>\n",
       "      <th>sqft_basement</th>\n",
       "      <th>yr_built</th>\n",
       "      <th>yr_renovated</th>\n",
       "      <th>zipcode</th>\n",
       "      <th>lat</th>\n",
       "      <th>long</th>\n",
       "      <th>sqft_living15</th>\n",
       "      <th>sqft_lot15</th>\n",
       "    </tr>\n",
       "  </thead>\n",
       "  <tbody>\n",
       "    <tr>\n",
       "      <th>0</th>\n",
       "      <td>7129300520</td>\n",
       "      <td>10/13/2014</td>\n",
       "      <td>221900.0</td>\n",
       "      <td>3</td>\n",
       "      <td>1.00</td>\n",
       "      <td>1180</td>\n",
       "      <td>5650</td>\n",
       "      <td>1.0</td>\n",
       "      <td>NaN</td>\n",
       "      <td>NONE</td>\n",
       "      <td>...</td>\n",
       "      <td>7 Average</td>\n",
       "      <td>1180</td>\n",
       "      <td>0.0</td>\n",
       "      <td>1955</td>\n",
       "      <td>0.0</td>\n",
       "      <td>98178</td>\n",
       "      <td>47.5112</td>\n",
       "      <td>-122.257</td>\n",
       "      <td>1340</td>\n",
       "      <td>5650</td>\n",
       "    </tr>\n",
       "    <tr>\n",
       "      <th>1</th>\n",
       "      <td>6414100192</td>\n",
       "      <td>12/9/2014</td>\n",
       "      <td>538000.0</td>\n",
       "      <td>3</td>\n",
       "      <td>2.25</td>\n",
       "      <td>2570</td>\n",
       "      <td>7242</td>\n",
       "      <td>2.0</td>\n",
       "      <td>NO</td>\n",
       "      <td>NONE</td>\n",
       "      <td>...</td>\n",
       "      <td>7 Average</td>\n",
       "      <td>2170</td>\n",
       "      <td>400.0</td>\n",
       "      <td>1951</td>\n",
       "      <td>1991.0</td>\n",
       "      <td>98125</td>\n",
       "      <td>47.7210</td>\n",
       "      <td>-122.319</td>\n",
       "      <td>1690</td>\n",
       "      <td>7639</td>\n",
       "    </tr>\n",
       "    <tr>\n",
       "      <th>2</th>\n",
       "      <td>5631500400</td>\n",
       "      <td>2/25/2015</td>\n",
       "      <td>180000.0</td>\n",
       "      <td>2</td>\n",
       "      <td>1.00</td>\n",
       "      <td>770</td>\n",
       "      <td>10000</td>\n",
       "      <td>1.0</td>\n",
       "      <td>NO</td>\n",
       "      <td>NONE</td>\n",
       "      <td>...</td>\n",
       "      <td>6 Low Average</td>\n",
       "      <td>770</td>\n",
       "      <td>0.0</td>\n",
       "      <td>1933</td>\n",
       "      <td>NaN</td>\n",
       "      <td>98028</td>\n",
       "      <td>47.7379</td>\n",
       "      <td>-122.233</td>\n",
       "      <td>2720</td>\n",
       "      <td>8062</td>\n",
       "    </tr>\n",
       "    <tr>\n",
       "      <th>3</th>\n",
       "      <td>2487200875</td>\n",
       "      <td>12/9/2014</td>\n",
       "      <td>604000.0</td>\n",
       "      <td>4</td>\n",
       "      <td>3.00</td>\n",
       "      <td>1960</td>\n",
       "      <td>5000</td>\n",
       "      <td>1.0</td>\n",
       "      <td>NO</td>\n",
       "      <td>NONE</td>\n",
       "      <td>...</td>\n",
       "      <td>7 Average</td>\n",
       "      <td>1050</td>\n",
       "      <td>910.0</td>\n",
       "      <td>1965</td>\n",
       "      <td>0.0</td>\n",
       "      <td>98136</td>\n",
       "      <td>47.5208</td>\n",
       "      <td>-122.393</td>\n",
       "      <td>1360</td>\n",
       "      <td>5000</td>\n",
       "    </tr>\n",
       "    <tr>\n",
       "      <th>4</th>\n",
       "      <td>1954400510</td>\n",
       "      <td>2/18/2015</td>\n",
       "      <td>510000.0</td>\n",
       "      <td>3</td>\n",
       "      <td>2.00</td>\n",
       "      <td>1680</td>\n",
       "      <td>8080</td>\n",
       "      <td>1.0</td>\n",
       "      <td>NO</td>\n",
       "      <td>NONE</td>\n",
       "      <td>...</td>\n",
       "      <td>8 Good</td>\n",
       "      <td>1680</td>\n",
       "      <td>0.0</td>\n",
       "      <td>1987</td>\n",
       "      <td>0.0</td>\n",
       "      <td>98074</td>\n",
       "      <td>47.6168</td>\n",
       "      <td>-122.045</td>\n",
       "      <td>1800</td>\n",
       "      <td>7503</td>\n",
       "    </tr>\n",
       "  </tbody>\n",
       "</table>\n",
       "<p>5 rows × 21 columns</p>\n",
       "</div>"
      ],
      "text/plain": [
       "           id        date     price  bedrooms  bathrooms  sqft_living  \\\n",
       "0  7129300520  10/13/2014  221900.0         3       1.00         1180   \n",
       "1  6414100192   12/9/2014  538000.0         3       2.25         2570   \n",
       "2  5631500400   2/25/2015  180000.0         2       1.00          770   \n",
       "3  2487200875   12/9/2014  604000.0         4       3.00         1960   \n",
       "4  1954400510   2/18/2015  510000.0         3       2.00         1680   \n",
       "\n",
       "   sqft_lot  floors waterfront  view  ...          grade sqft_above  \\\n",
       "0      5650     1.0        NaN  NONE  ...      7 Average       1180   \n",
       "1      7242     2.0         NO  NONE  ...      7 Average       2170   \n",
       "2     10000     1.0         NO  NONE  ...  6 Low Average        770   \n",
       "3      5000     1.0         NO  NONE  ...      7 Average       1050   \n",
       "4      8080     1.0         NO  NONE  ...         8 Good       1680   \n",
       "\n",
       "   sqft_basement yr_built  yr_renovated  zipcode      lat     long  \\\n",
       "0            0.0     1955           0.0    98178  47.5112 -122.257   \n",
       "1          400.0     1951        1991.0    98125  47.7210 -122.319   \n",
       "2            0.0     1933           NaN    98028  47.7379 -122.233   \n",
       "3          910.0     1965           0.0    98136  47.5208 -122.393   \n",
       "4            0.0     1987           0.0    98074  47.6168 -122.045   \n",
       "\n",
       "   sqft_living15  sqft_lot15  \n",
       "0           1340        5650  \n",
       "1           1690        7639  \n",
       "2           2720        8062  \n",
       "3           1360        5000  \n",
       "4           1800        7503  \n",
       "\n",
       "[5 rows x 21 columns]"
      ]
     },
     "execution_count": 46,
     "metadata": {},
     "output_type": "execute_result"
    }
   ],
   "source": [
    "kc_data= pd.read_csv('data/kc_house_data.csv')\n",
    "kc_data.head()"
   ]
  },
  {
   "cell_type": "code",
   "execution_count": 47,
   "metadata": {},
   "outputs": [
    {
     "name": "stdout",
     "output_type": "stream",
     "text": [
      "<class 'pandas.core.frame.DataFrame'>\n",
      "RangeIndex: 21597 entries, 0 to 21596\n",
      "Data columns (total 21 columns):\n",
      " #   Column         Non-Null Count  Dtype  \n",
      "---  ------         --------------  -----  \n",
      " 0   id             21597 non-null  int64  \n",
      " 1   date           21597 non-null  object \n",
      " 2   price          21597 non-null  float64\n",
      " 3   bedrooms       21597 non-null  int64  \n",
      " 4   bathrooms      21597 non-null  float64\n",
      " 5   sqft_living    21597 non-null  int64  \n",
      " 6   sqft_lot       21597 non-null  int64  \n",
      " 7   floors         21597 non-null  float64\n",
      " 8   waterfront     19221 non-null  object \n",
      " 9   view           21534 non-null  object \n",
      " 10  condition      21597 non-null  object \n",
      " 11  grade          21597 non-null  object \n",
      " 12  sqft_above     21597 non-null  int64  \n",
      " 13  sqft_basement  21597 non-null  object \n",
      " 14  yr_built       21597 non-null  int64  \n",
      " 15  yr_renovated   17755 non-null  float64\n",
      " 16  zipcode        21597 non-null  int64  \n",
      " 17  lat            21597 non-null  float64\n",
      " 18  long           21597 non-null  float64\n",
      " 19  sqft_living15  21597 non-null  int64  \n",
      " 20  sqft_lot15     21597 non-null  int64  \n",
      "dtypes: float64(6), int64(9), object(6)\n",
      "memory usage: 3.5+ MB\n"
     ]
    }
   ],
   "source": [
    "kc_data.info()"
   ]
  },
  {
   "cell_type": "markdown",
   "metadata": {},
   "source": [
    "The dataset has 21 columns;6 categorical and 15 numerical columns. Some of the colums has missing values."
   ]
  },
  {
   "cell_type": "code",
   "execution_count": 48,
   "metadata": {},
   "outputs": [
    {
     "data": {
      "text/plain": [
       "(21597, 21)"
      ]
     },
     "execution_count": 48,
     "metadata": {},
     "output_type": "execute_result"
    }
   ],
   "source": [
    "#checking for rows and columns of the dataset\n",
    "kc_data.shape"
   ]
  },
  {
   "attachments": {},
   "cell_type": "markdown",
   "metadata": {},
   "source": [
    "The dataset has 21597 rows and 21 columns"
   ]
  },
  {
   "cell_type": "code",
   "execution_count": 49,
   "metadata": {},
   "outputs": [
    {
     "data": {
      "text/plain": [
       "id                  0\n",
       "date                0\n",
       "price               0\n",
       "bedrooms            0\n",
       "bathrooms           0\n",
       "sqft_living         0\n",
       "sqft_lot            0\n",
       "floors              0\n",
       "waterfront       2376\n",
       "view               63\n",
       "condition           0\n",
       "grade               0\n",
       "sqft_above          0\n",
       "sqft_basement       0\n",
       "yr_built            0\n",
       "yr_renovated     3842\n",
       "zipcode             0\n",
       "lat                 0\n",
       "long                0\n",
       "sqft_living15       0\n",
       "sqft_lot15          0\n",
       "dtype: int64"
      ]
     },
     "execution_count": 49,
     "metadata": {},
     "output_type": "execute_result"
    }
   ],
   "source": [
    "kc_data.isna().sum()"
   ]
  },
  {
   "cell_type": "markdown",
   "metadata": {},
   "source": [
    "Waterfront,view and year renovated have missing values.View and waterfront are categorical columns so we'll replace the missing values with the mode and year renovated ,which is a numerical column, we'll replace the missing values with the median, not the mean, to avoid skewing the data."
   ]
  },
  {
   "cell_type": "code",
   "execution_count": 50,
   "metadata": {},
   "outputs": [
    {
     "data": {
      "text/plain": [
       "0"
      ]
     },
     "execution_count": 50,
     "metadata": {},
     "output_type": "execute_result"
    }
   ],
   "source": [
    "kc_data.duplicated().sum()"
   ]
  },
  {
   "cell_type": "markdown",
   "metadata": {},
   "source": [
    "There are no duplicates in the data."
   ]
  },
  {
   "cell_type": "code",
   "execution_count": 51,
   "metadata": {},
   "outputs": [
    {
     "name": "stdout",
     "output_type": "stream",
     "text": [
      "Value counts for id column:\n",
      "795000620     3\n",
      "8910500150    2\n",
      "7409700215    2\n",
      "1995200200    2\n",
      "9211500620    2\n",
      "             ..\n",
      "3649100387    1\n",
      "2767603649    1\n",
      "1446403617    1\n",
      "5602000275    1\n",
      "1523300157    1\n",
      "Name: id, Length: 21420, dtype: int64\n",
      "==============================\n",
      "Value counts for date column:\n",
      "6/23/2014    142\n",
      "6/25/2014    131\n",
      "6/26/2014    131\n",
      "7/8/2014     127\n",
      "4/27/2015    126\n",
      "            ... \n",
      "11/2/2014      1\n",
      "1/31/2015      1\n",
      "5/24/2015      1\n",
      "5/17/2014      1\n",
      "7/27/2014      1\n",
      "Name: date, Length: 372, dtype: int64\n",
      "==============================\n",
      "Value counts for price column:\n",
      "450000.0    172\n",
      "350000.0    172\n",
      "550000.0    159\n",
      "500000.0    152\n",
      "425000.0    150\n",
      "           ... \n",
      "278800.0      1\n",
      "439888.0      1\n",
      "354901.0      1\n",
      "942000.0      1\n",
      "402101.0      1\n",
      "Name: price, Length: 3622, dtype: int64\n",
      "==============================\n",
      "Value counts for bedrooms column:\n",
      "3     9824\n",
      "4     6882\n",
      "2     2760\n",
      "5     1601\n",
      "6      272\n",
      "1      196\n",
      "7       38\n",
      "8       13\n",
      "9        6\n",
      "10       3\n",
      "11       1\n",
      "33       1\n",
      "Name: bedrooms, dtype: int64\n",
      "==============================\n",
      "Value counts for bathrooms column:\n",
      "2.50    5377\n",
      "1.00    3851\n",
      "1.75    3048\n",
      "2.25    2047\n",
      "2.00    1930\n",
      "1.50    1445\n",
      "2.75    1185\n",
      "3.00     753\n",
      "3.50     731\n",
      "3.25     589\n",
      "3.75     155\n",
      "4.00     136\n",
      "4.50     100\n",
      "4.25      79\n",
      "0.75      71\n",
      "4.75      23\n",
      "5.00      21\n",
      "5.25      13\n",
      "5.50      10\n",
      "1.25       9\n",
      "6.00       6\n",
      "0.50       4\n",
      "5.75       4\n",
      "6.75       2\n",
      "8.00       2\n",
      "6.25       2\n",
      "6.50       2\n",
      "7.50       1\n",
      "7.75       1\n",
      "Name: bathrooms, dtype: int64\n",
      "==============================\n",
      "Value counts for sqft_living column:\n",
      "1300    138\n",
      "1400    135\n",
      "1440    133\n",
      "1800    129\n",
      "1660    129\n",
      "       ... \n",
      "2507      1\n",
      "9890      1\n",
      "5584      1\n",
      "1961      1\n",
      "1425      1\n",
      "Name: sqft_living, Length: 1034, dtype: int64\n",
      "==============================\n",
      "Value counts for sqft_lot column:\n",
      "5000     358\n",
      "6000     290\n",
      "4000     251\n",
      "7200     220\n",
      "4800     119\n",
      "        ... \n",
      "22605      1\n",
      "25248      1\n",
      "9934       1\n",
      "9142       1\n",
      "1076       1\n",
      "Name: sqft_lot, Length: 9776, dtype: int64\n",
      "==============================\n",
      "Value counts for floors column:\n",
      "1.0    10673\n",
      "2.0     8235\n",
      "1.5     1910\n",
      "3.0      611\n",
      "2.5      161\n",
      "3.5        7\n",
      "Name: floors, dtype: int64\n",
      "==============================\n",
      "Value counts for waterfront column:\n",
      "NO     19075\n",
      "YES      146\n",
      "Name: waterfront, dtype: int64\n",
      "==============================\n",
      "Value counts for view column:\n",
      "NONE         19422\n",
      "AVERAGE        957\n",
      "GOOD           508\n",
      "FAIR           330\n",
      "EXCELLENT      317\n",
      "Name: view, dtype: int64\n",
      "==============================\n",
      "Value counts for condition column:\n",
      "Average      14020\n",
      "Good          5677\n",
      "Very Good     1701\n",
      "Fair           170\n",
      "Poor            29\n",
      "Name: condition, dtype: int64\n",
      "==============================\n",
      "Value counts for grade column:\n",
      "7 Average        8974\n",
      "8 Good           6065\n",
      "9 Better         2615\n",
      "6 Low Average    2038\n",
      "10 Very Good     1134\n",
      "11 Excellent      399\n",
      "5 Fair            242\n",
      "12 Luxury          89\n",
      "4 Low              27\n",
      "13 Mansion         13\n",
      "3 Poor              1\n",
      "Name: grade, dtype: int64\n",
      "==============================\n",
      "Value counts for sqft_above column:\n",
      "1300    212\n",
      "1010    210\n",
      "1200    206\n",
      "1220    192\n",
      "1140    184\n",
      "       ... \n",
      "3674      1\n",
      "2979      1\n",
      "2382      1\n",
      "6290      1\n",
      "1425      1\n",
      "Name: sqft_above, Length: 942, dtype: int64\n",
      "==============================\n",
      "Value counts for sqft_basement column:\n",
      "0.0       12826\n",
      "?           454\n",
      "600.0       217\n",
      "500.0       209\n",
      "700.0       208\n",
      "          ...  \n",
      "1920.0        1\n",
      "3480.0        1\n",
      "2730.0        1\n",
      "2720.0        1\n",
      "248.0         1\n",
      "Name: sqft_basement, Length: 304, dtype: int64\n",
      "==============================\n",
      "Value counts for yr_built column:\n",
      "2014    559\n",
      "2006    453\n",
      "2005    450\n",
      "2004    433\n",
      "2003    420\n",
      "       ... \n",
      "1933     30\n",
      "1901     29\n",
      "1902     27\n",
      "1935     24\n",
      "1934     21\n",
      "Name: yr_built, Length: 116, dtype: int64\n",
      "==============================\n",
      "Value counts for yr_renovated column:\n",
      "0.0       17011\n",
      "2014.0       73\n",
      "2013.0       31\n",
      "2003.0       31\n",
      "2007.0       30\n",
      "          ...  \n",
      "1951.0        1\n",
      "1953.0        1\n",
      "1946.0        1\n",
      "1976.0        1\n",
      "1948.0        1\n",
      "Name: yr_renovated, Length: 70, dtype: int64\n",
      "==============================\n",
      "Value counts for zipcode column:\n",
      "98103    602\n",
      "98038    589\n",
      "98115    583\n",
      "98052    574\n",
      "98117    553\n",
      "        ... \n",
      "98102    104\n",
      "98010    100\n",
      "98024     80\n",
      "98148     57\n",
      "98039     50\n",
      "Name: zipcode, Length: 70, dtype: int64\n",
      "==============================\n",
      "Value counts for lat column:\n",
      "47.5491    17\n",
      "47.6846    17\n",
      "47.5322    17\n",
      "47.6624    17\n",
      "47.6711    16\n",
      "           ..\n",
      "47.1976     1\n",
      "47.3013     1\n",
      "47.6139     1\n",
      "47.4184     1\n",
      "47.6502     1\n",
      "Name: lat, Length: 5033, dtype: int64\n",
      "==============================\n",
      "Value counts for long column:\n",
      "-122.290    115\n",
      "-122.300    111\n",
      "-122.362    104\n",
      "-122.291    100\n",
      "-122.372     99\n",
      "           ... \n",
      "-122.459      1\n",
      "-121.726      1\n",
      "-121.819      1\n",
      "-122.440      1\n",
      "-121.403      1\n",
      "Name: long, Length: 751, dtype: int64\n",
      "==============================\n",
      "Value counts for sqft_living15 column:\n",
      "1540    197\n",
      "1440    195\n",
      "1560    192\n",
      "1500    180\n",
      "1460    169\n",
      "       ... \n",
      "3736      1\n",
      "4950      1\n",
      "2728      1\n",
      "4740      1\n",
      "2927      1\n",
      "Name: sqft_living15, Length: 777, dtype: int64\n",
      "==============================\n",
      "Value counts for sqft_lot15 column:\n",
      "5000     427\n",
      "4000     356\n",
      "6000     288\n",
      "7200     210\n",
      "4800     145\n",
      "        ... \n",
      "10170      1\n",
      "10573      1\n",
      "11477      1\n",
      "1449       1\n",
      "2007       1\n",
      "Name: sqft_lot15, Length: 8682, dtype: int64\n",
      "==============================\n"
     ]
    }
   ],
   "source": [
    "for column in kc_data.columns:\n",
    "    # Print the column name\n",
    "    print(\"Value counts for {} column:\".format(column))\n",
    "    # Print the value counts for the column\n",
    "    print(kc_data[column].value_counts())\n",
    "    # Add a separator for clarity\n",
    "    print(\"=\"*30)"
   ]
  },
  {
   "cell_type": "markdown",
   "metadata": {},
   "source": [
    "The square foot basement column has a placeholder value,?."
   ]
  },
  {
   "cell_type": "markdown",
   "metadata": {},
   "source": [
    "# Data cleaning"
   ]
  },
  {
   "cell_type": "code",
   "execution_count": 52,
   "metadata": {},
   "outputs": [
    {
     "data": {
      "text/html": [
       "<div>\n",
       "<style scoped>\n",
       "    .dataframe tbody tr th:only-of-type {\n",
       "        vertical-align: middle;\n",
       "    }\n",
       "\n",
       "    .dataframe tbody tr th {\n",
       "        vertical-align: top;\n",
       "    }\n",
       "\n",
       "    .dataframe thead th {\n",
       "        text-align: right;\n",
       "    }\n",
       "</style>\n",
       "<table border=\"1\" class=\"dataframe\">\n",
       "  <thead>\n",
       "    <tr style=\"text-align: right;\">\n",
       "      <th></th>\n",
       "      <th>id</th>\n",
       "      <th>date</th>\n",
       "      <th>price</th>\n",
       "      <th>bedrooms</th>\n",
       "      <th>bathrooms</th>\n",
       "      <th>sqft_living</th>\n",
       "      <th>sqft_lot</th>\n",
       "      <th>floors</th>\n",
       "      <th>waterfront</th>\n",
       "      <th>view</th>\n",
       "      <th>...</th>\n",
       "      <th>grade</th>\n",
       "      <th>sqft_above</th>\n",
       "      <th>sqft_basement</th>\n",
       "      <th>yr_built</th>\n",
       "      <th>yr_renovated</th>\n",
       "      <th>zipcode</th>\n",
       "      <th>lat</th>\n",
       "      <th>long</th>\n",
       "      <th>sqft_living15</th>\n",
       "      <th>sqft_lot15</th>\n",
       "    </tr>\n",
       "  </thead>\n",
       "  <tbody>\n",
       "    <tr>\n",
       "      <th>15856</th>\n",
       "      <td>2402100895</td>\n",
       "      <td>6/25/2014</td>\n",
       "      <td>640000.0</td>\n",
       "      <td>33</td>\n",
       "      <td>1.75</td>\n",
       "      <td>1620</td>\n",
       "      <td>6000</td>\n",
       "      <td>1.0</td>\n",
       "      <td>NO</td>\n",
       "      <td>NONE</td>\n",
       "      <td>...</td>\n",
       "      <td>7 Average</td>\n",
       "      <td>1040</td>\n",
       "      <td>580.0</td>\n",
       "      <td>1947</td>\n",
       "      <td>0.0</td>\n",
       "      <td>98103</td>\n",
       "      <td>47.6878</td>\n",
       "      <td>-122.331</td>\n",
       "      <td>1330</td>\n",
       "      <td>4700</td>\n",
       "    </tr>\n",
       "  </tbody>\n",
       "</table>\n",
       "<p>1 rows × 21 columns</p>\n",
       "</div>"
      ],
      "text/plain": [
       "               id       date     price  bedrooms  bathrooms  sqft_living  \\\n",
       "15856  2402100895  6/25/2014  640000.0        33       1.75         1620   \n",
       "\n",
       "       sqft_lot  floors waterfront  view  ...      grade sqft_above  \\\n",
       "15856      6000     1.0         NO  NONE  ...  7 Average       1040   \n",
       "\n",
       "       sqft_basement yr_built  yr_renovated  zipcode      lat     long  \\\n",
       "15856          580.0     1947           0.0    98103  47.6878 -122.331   \n",
       "\n",
       "       sqft_living15  sqft_lot15  \n",
       "15856           1330        4700  \n",
       "\n",
       "[1 rows x 21 columns]"
      ]
     },
     "execution_count": 52,
     "metadata": {},
     "output_type": "execute_result"
    }
   ],
   "source": [
    "kc_data[kc_data['bedrooms']> 20]"
   ]
  },
  {
   "attachments": {},
   "cell_type": "markdown",
   "metadata": {},
   "source": [
    "When the number of bedrooms is 33, the value in the sqft_living and sqft_lot a too little to match to that record meaning there is most likely an error in data entry. Therefore it`s best drop that column"
   ]
  },
  {
   "cell_type": "code",
   "execution_count": 53,
   "metadata": {},
   "outputs": [],
   "source": [
    "kc_data = kc_data.drop(kc_data[kc_data['bedrooms'] > 20].index)"
   ]
  },
  {
   "cell_type": "code",
   "execution_count": 54,
   "metadata": {},
   "outputs": [
    {
     "data": {
      "text/plain": [
       "id                0.000000\n",
       "date              0.000000\n",
       "price             0.000000\n",
       "bedrooms          0.000000\n",
       "bathrooms         0.000000\n",
       "sqft_living       0.000000\n",
       "sqft_lot          0.000000\n",
       "floors            0.000000\n",
       "waterfront       11.002037\n",
       "view              0.291721\n",
       "condition         0.000000\n",
       "grade             0.000000\n",
       "sqft_above        0.000000\n",
       "sqft_basement     0.000000\n",
       "yr_built          0.000000\n",
       "yr_renovated     17.790332\n",
       "zipcode           0.000000\n",
       "lat               0.000000\n",
       "long              0.000000\n",
       "sqft_living15     0.000000\n",
       "sqft_lot15        0.000000\n",
       "dtype: float64"
      ]
     },
     "execution_count": 54,
     "metadata": {},
     "output_type": "execute_result"
    }
   ],
   "source": [
    "#defining a simple function to check the percentage of missing values per column\n",
    "def missing_values(data):\n",
    "    total=len(data)\n",
    "    missing_value =data.isna().sum()\n",
    "    percentage_missing= (missing_value/total)*100\n",
    "    return percentage_missing\n",
    "\n",
    "missing_values(kc_data)"
   ]
  },
  {
   "attachments": {},
   "cell_type": "markdown",
   "metadata": {},
   "source": [
    "* waterfront missing values constitute, 11.00152798999861 % of the entire column\n",
    "* view missing values constitute, 0.29170718155299347 % of the entire column\n",
    "* year renovated missing values constitute, 17.78950780200954 % of the entire column"
   ]
  },
  {
   "attachments": {},
   "cell_type": "markdown",
   "metadata": {},
   "source": [
    "Since the missing values in the 3 columns are categorical and are a small percentage of the columns, replacing them with mode won`t skew the data nor give false conclusions"
   ]
  },
  {
   "cell_type": "code",
   "execution_count": 55,
   "metadata": {},
   "outputs": [
    {
     "data": {
      "text/plain": [
       "0    NO\n",
       "Name: waterfront, dtype: object"
      ]
     },
     "execution_count": 55,
     "metadata": {},
     "output_type": "execute_result"
    }
   ],
   "source": [
    "#checking the mode for the waterfront column\n",
    "kc_data['waterfront'].mode()"
   ]
  },
  {
   "cell_type": "code",
   "execution_count": 56,
   "metadata": {},
   "outputs": [
    {
     "data": {
      "text/plain": [
       "0"
      ]
     },
     "execution_count": 56,
     "metadata": {},
     "output_type": "execute_result"
    }
   ],
   "source": [
    "#watefront; The mode is NO \n",
    "kc_data['waterfront'] = kc_data['waterfront'].fillna(kc_data['waterfront'].mode()[0])\n",
    "kc_data['waterfront'].isna().sum()"
   ]
  },
  {
   "cell_type": "code",
   "execution_count": 57,
   "metadata": {},
   "outputs": [
    {
     "data": {
      "text/plain": [
       "0    NONE\n",
       "Name: view, dtype: object"
      ]
     },
     "execution_count": 57,
     "metadata": {},
     "output_type": "execute_result"
    }
   ],
   "source": [
    "kc_data['view'].mode()"
   ]
  },
  {
   "cell_type": "code",
   "execution_count": 58,
   "metadata": {},
   "outputs": [
    {
     "data": {
      "text/plain": [
       "0"
      ]
     },
     "execution_count": 58,
     "metadata": {},
     "output_type": "execute_result"
    }
   ],
   "source": [
    "#view; The mode is NONE\n",
    "kc_data['view'] = kc_data['view'].fillna(kc_data['view'].mode()[0])\n",
    "kc_data['view'].isna().sum()"
   ]
  },
  {
   "cell_type": "code",
   "execution_count": 59,
   "metadata": {},
   "outputs": [
    {
     "data": {
      "text/plain": [
       "0    0.0\n",
       "Name: yr_renovated, dtype: float64"
      ]
     },
     "execution_count": 59,
     "metadata": {},
     "output_type": "execute_result"
    }
   ],
   "source": [
    "#Checking the mode of the year renovated column\n",
    "kc_data['yr_renovated'].mode()"
   ]
  },
  {
   "cell_type": "code",
   "execution_count": 60,
   "metadata": {},
   "outputs": [
    {
     "data": {
      "text/plain": [
       "0"
      ]
     },
     "execution_count": 60,
     "metadata": {},
     "output_type": "execute_result"
    }
   ],
   "source": [
    "#year renovated mode is 0\n",
    "kc_data['yr_renovated'] = kc_data['yr_renovated'].fillna(kc_data['yr_renovated'].mode()[0])\n",
    "kc_data['yr_renovated'].isna().sum()"
   ]
  },
  {
   "cell_type": "code",
   "execution_count": 61,
   "metadata": {},
   "outputs": [
    {
     "name": "stdout",
     "output_type": "stream",
     "text": [
      "<class 'pandas.core.frame.DataFrame'>\n",
      "Int64Index: 21596 entries, 0 to 21596\n",
      "Data columns (total 21 columns):\n",
      " #   Column         Non-Null Count  Dtype  \n",
      "---  ------         --------------  -----  \n",
      " 0   id             21596 non-null  int64  \n",
      " 1   date           21596 non-null  object \n",
      " 2   price          21596 non-null  float64\n",
      " 3   bedrooms       21596 non-null  int64  \n",
      " 4   bathrooms      21596 non-null  float64\n",
      " 5   sqft_living    21596 non-null  int64  \n",
      " 6   sqft_lot       21596 non-null  int64  \n",
      " 7   floors         21596 non-null  float64\n",
      " 8   waterfront     21596 non-null  object \n",
      " 9   view           21596 non-null  object \n",
      " 10  condition      21596 non-null  object \n",
      " 11  grade          21596 non-null  object \n",
      " 12  sqft_above     21596 non-null  int64  \n",
      " 13  sqft_basement  21596 non-null  object \n",
      " 14  yr_built       21596 non-null  int64  \n",
      " 15  yr_renovated   21596 non-null  float64\n",
      " 16  zipcode        21596 non-null  int64  \n",
      " 17  lat            21596 non-null  float64\n",
      " 18  long           21596 non-null  float64\n",
      " 19  sqft_living15  21596 non-null  int64  \n",
      " 20  sqft_lot15     21596 non-null  int64  \n",
      "dtypes: float64(6), int64(9), object(6)\n",
      "memory usage: 3.6+ MB\n"
     ]
    }
   ],
   "source": [
    "kc_data.info()"
   ]
  },
  {
   "cell_type": "code",
   "execution_count": 62,
   "metadata": {},
   "outputs": [],
   "source": [
    "#checking for outliers\n",
    "import matplotlib.pyplot as plt\n",
    "def check_for_outliers(data, column):\n",
    "    # Create a box plot of the column data\n",
    "    plt.boxplot(data[column])\n",
    "    plt.title(\"Box plot for {}\".format(column))\n",
    "    plt.show()"
   ]
  },
  {
   "cell_type": "code",
   "execution_count": 63,
   "metadata": {},
   "outputs": [
    {
     "data": {
      "image/png": "[encoded data removed]",
      "text/plain": [
       "<Figure size 640x480 with 1 Axes>"
      ]
     },
     "metadata": {},
     "output_type": "display_data"
    }
   ],
   "source": [
    "check_for_outliers(kc_data, 'price')"
   ]
  },
  {
   "cell_type": "markdown",
   "metadata": {},
   "source": [
    "The data has outliers but we cannot eliminate the outliers because they actually provide valuable information"
   ]
  },
  {
   "attachments": {},
   "cell_type": "markdown",
   "metadata": {},
   "source": [
    "Dealing with the placeholder values in squarefoot basement\n",
    "* It has 454 placeholder values, dropping the would mean loss of valuable data in the other columns\n",
    "* The placeholder would have most likely have been used to show that the house has no basement, we can therefore replace these placeholder values with the mode ie 0\n",
    "* The placeholder values constitute 2% of the column so imputing the data won't skew the data"
   ]
  },
  {
   "cell_type": "code",
   "execution_count": 64,
   "metadata": {},
   "outputs": [
    {
     "name": "stdout",
     "output_type": "stream",
     "text": [
      "square foot basement placeholder values ? constitute, 2.1021438162707784 % of the entire column\n"
     ]
    },
    {
     "data": {
      "text/plain": [
       "0.0       12826\n",
       "0.0         454\n",
       "600.0       217\n",
       "500.0       209\n",
       "700.0       208\n",
       "          ...  \n",
       "1920.0        1\n",
       "3480.0        1\n",
       "2730.0        1\n",
       "2720.0        1\n",
       "248.0         1\n",
       "Name: sqft_basement, Length: 304, dtype: int64"
      ]
     },
     "execution_count": 64,
     "metadata": {},
     "output_type": "execute_result"
    }
   ],
   "source": [
    "print ('square foot basement placeholder values ? constitute,',(454/21597)*100, '% of the entire column')\n",
    "\n",
    "kc_data['sqft_basement'].replace('?',0.0,regex=False,inplace=True)\n",
    "kc_data['sqft_basement'].value_counts()"
   ]
  },
  {
   "cell_type": "code",
   "execution_count": 65,
   "metadata": {},
   "outputs": [],
   "source": [
    "#changing the data type of the column because it contains numerical values\n",
    "kc_data['sqft_basement']=kc_data['sqft_basement'].astype(float)\n"
   ]
  },
  {
   "cell_type": "code",
   "execution_count": 66,
   "metadata": {},
   "outputs": [
    {
     "name": "stdout",
     "output_type": "stream",
     "text": [
      "<class 'pandas.core.frame.DataFrame'>\n",
      "Int64Index: 21596 entries, 0 to 21596\n",
      "Data columns (total 21 columns):\n",
      " #   Column         Non-Null Count  Dtype  \n",
      "---  ------         --------------  -----  \n",
      " 0   id             21596 non-null  int64  \n",
      " 1   date           21596 non-null  object \n",
      " 2   price          21596 non-null  float64\n",
      " 3   bedrooms       21596 non-null  int64  \n",
      " 4   bathrooms      21596 non-null  float64\n",
      " 5   sqft_living    21596 non-null  int64  \n",
      " 6   sqft_lot       21596 non-null  int64  \n",
      " 7   floors         21596 non-null  float64\n",
      " 8   waterfront     21596 non-null  object \n",
      " 9   view           21596 non-null  object \n",
      " 10  condition      21596 non-null  object \n",
      " 11  grade          21596 non-null  object \n",
      " 12  sqft_above     21596 non-null  int64  \n",
      " 13  sqft_basement  21596 non-null  float64\n",
      " 14  yr_built       21596 non-null  int64  \n",
      " 15  yr_renovated   21596 non-null  float64\n",
      " 16  zipcode        21596 non-null  int64  \n",
      " 17  lat            21596 non-null  float64\n",
      " 18  long           21596 non-null  float64\n",
      " 19  sqft_living15  21596 non-null  int64  \n",
      " 20  sqft_lot15     21596 non-null  int64  \n",
      "dtypes: float64(7), int64(9), object(5)\n",
      "memory usage: 3.6+ MB\n"
     ]
    }
   ],
   "source": [
    "kc_data.info()"
   ]
  },
  {
   "cell_type": "markdown",
   "metadata": {},
   "source": [
    "The data doesn't have missing values, duplicates or placeholder values and all the columns are in their correct datatypes"
   ]
  },
  {
   "cell_type": "code",
   "execution_count": 67,
   "metadata": {},
   "outputs": [
    {
     "data": {
      "text/html": [
       "<div>\n",
       "<style scoped>\n",
       "    .dataframe tbody tr th:only-of-type {\n",
       "        vertical-align: middle;\n",
       "    }\n",
       "\n",
       "    .dataframe tbody tr th {\n",
       "        vertical-align: top;\n",
       "    }\n",
       "\n",
       "    .dataframe thead th {\n",
       "        text-align: right;\n",
       "    }\n",
       "</style>\n",
       "<table border=\"1\" class=\"dataframe\">\n",
       "  <thead>\n",
       "    <tr style=\"text-align: right;\">\n",
       "      <th></th>\n",
       "      <th>id</th>\n",
       "      <th>price</th>\n",
       "      <th>bedrooms</th>\n",
       "      <th>bathrooms</th>\n",
       "      <th>sqft_living</th>\n",
       "      <th>sqft_lot</th>\n",
       "      <th>floors</th>\n",
       "      <th>sqft_above</th>\n",
       "      <th>sqft_basement</th>\n",
       "      <th>yr_built</th>\n",
       "      <th>yr_renovated</th>\n",
       "      <th>zipcode</th>\n",
       "      <th>lat</th>\n",
       "      <th>long</th>\n",
       "      <th>sqft_living15</th>\n",
       "      <th>sqft_lot15</th>\n",
       "    </tr>\n",
       "  </thead>\n",
       "  <tbody>\n",
       "    <tr>\n",
       "      <th>count</th>\n",
       "      <td>2.159600e+04</td>\n",
       "      <td>2.159600e+04</td>\n",
       "      <td>21596.000000</td>\n",
       "      <td>21596.000000</td>\n",
       "      <td>21596.000000</td>\n",
       "      <td>2.159600e+04</td>\n",
       "      <td>21596.000000</td>\n",
       "      <td>21596.000000</td>\n",
       "      <td>21596.000000</td>\n",
       "      <td>21596.000000</td>\n",
       "      <td>21596.000000</td>\n",
       "      <td>21596.000000</td>\n",
       "      <td>21596.000000</td>\n",
       "      <td>21596.000000</td>\n",
       "      <td>21596.000000</td>\n",
       "      <td>21596.000000</td>\n",
       "    </tr>\n",
       "    <tr>\n",
       "      <th>mean</th>\n",
       "      <td>4.580575e+09</td>\n",
       "      <td>5.402920e+05</td>\n",
       "      <td>3.371828</td>\n",
       "      <td>2.115843</td>\n",
       "      <td>2080.343165</td>\n",
       "      <td>1.509983e+04</td>\n",
       "      <td>1.494119</td>\n",
       "      <td>1788.631506</td>\n",
       "      <td>285.702954</td>\n",
       "      <td>1971.000787</td>\n",
       "      <td>68.761391</td>\n",
       "      <td>98077.950685</td>\n",
       "      <td>47.560087</td>\n",
       "      <td>-122.213977</td>\n",
       "      <td>1986.650722</td>\n",
       "      <td>12758.656649</td>\n",
       "    </tr>\n",
       "    <tr>\n",
       "      <th>std</th>\n",
       "      <td>2.876764e+09</td>\n",
       "      <td>3.673760e+05</td>\n",
       "      <td>0.904114</td>\n",
       "      <td>0.768998</td>\n",
       "      <td>918.122038</td>\n",
       "      <td>4.141355e+04</td>\n",
       "      <td>0.539685</td>\n",
       "      <td>827.763251</td>\n",
       "      <td>439.825454</td>\n",
       "      <td>29.375460</td>\n",
       "      <td>364.045627</td>\n",
       "      <td>53.514040</td>\n",
       "      <td>0.138552</td>\n",
       "      <td>0.140725</td>\n",
       "      <td>685.231768</td>\n",
       "      <td>27275.018316</td>\n",
       "    </tr>\n",
       "    <tr>\n",
       "      <th>min</th>\n",
       "      <td>1.000102e+06</td>\n",
       "      <td>7.800000e+04</td>\n",
       "      <td>1.000000</td>\n",
       "      <td>0.500000</td>\n",
       "      <td>370.000000</td>\n",
       "      <td>5.200000e+02</td>\n",
       "      <td>1.000000</td>\n",
       "      <td>370.000000</td>\n",
       "      <td>0.000000</td>\n",
       "      <td>1900.000000</td>\n",
       "      <td>0.000000</td>\n",
       "      <td>98001.000000</td>\n",
       "      <td>47.155900</td>\n",
       "      <td>-122.519000</td>\n",
       "      <td>399.000000</td>\n",
       "      <td>651.000000</td>\n",
       "    </tr>\n",
       "    <tr>\n",
       "      <th>25%</th>\n",
       "      <td>2.123049e+09</td>\n",
       "      <td>3.220000e+05</td>\n",
       "      <td>3.000000</td>\n",
       "      <td>1.750000</td>\n",
       "      <td>1430.000000</td>\n",
       "      <td>5.040000e+03</td>\n",
       "      <td>1.000000</td>\n",
       "      <td>1190.000000</td>\n",
       "      <td>0.000000</td>\n",
       "      <td>1951.000000</td>\n",
       "      <td>0.000000</td>\n",
       "      <td>98033.000000</td>\n",
       "      <td>47.471100</td>\n",
       "      <td>-122.328000</td>\n",
       "      <td>1490.000000</td>\n",
       "      <td>5100.000000</td>\n",
       "    </tr>\n",
       "    <tr>\n",
       "      <th>50%</th>\n",
       "      <td>3.904930e+09</td>\n",
       "      <td>4.500000e+05</td>\n",
       "      <td>3.000000</td>\n",
       "      <td>2.250000</td>\n",
       "      <td>1910.000000</td>\n",
       "      <td>7.619000e+03</td>\n",
       "      <td>1.500000</td>\n",
       "      <td>1560.000000</td>\n",
       "      <td>0.000000</td>\n",
       "      <td>1975.000000</td>\n",
       "      <td>0.000000</td>\n",
       "      <td>98065.000000</td>\n",
       "      <td>47.571800</td>\n",
       "      <td>-122.231000</td>\n",
       "      <td>1840.000000</td>\n",
       "      <td>7620.000000</td>\n",
       "    </tr>\n",
       "    <tr>\n",
       "      <th>75%</th>\n",
       "      <td>7.308950e+09</td>\n",
       "      <td>6.450000e+05</td>\n",
       "      <td>4.000000</td>\n",
       "      <td>2.500000</td>\n",
       "      <td>2550.000000</td>\n",
       "      <td>1.068550e+04</td>\n",
       "      <td>2.000000</td>\n",
       "      <td>2210.000000</td>\n",
       "      <td>550.000000</td>\n",
       "      <td>1997.000000</td>\n",
       "      <td>0.000000</td>\n",
       "      <td>98118.000000</td>\n",
       "      <td>47.678000</td>\n",
       "      <td>-122.125000</td>\n",
       "      <td>2360.000000</td>\n",
       "      <td>10083.000000</td>\n",
       "    </tr>\n",
       "    <tr>\n",
       "      <th>max</th>\n",
       "      <td>9.900000e+09</td>\n",
       "      <td>7.700000e+06</td>\n",
       "      <td>11.000000</td>\n",
       "      <td>8.000000</td>\n",
       "      <td>13540.000000</td>\n",
       "      <td>1.651359e+06</td>\n",
       "      <td>3.500000</td>\n",
       "      <td>9410.000000</td>\n",
       "      <td>4820.000000</td>\n",
       "      <td>2015.000000</td>\n",
       "      <td>2015.000000</td>\n",
       "      <td>98199.000000</td>\n",
       "      <td>47.777600</td>\n",
       "      <td>-121.315000</td>\n",
       "      <td>6210.000000</td>\n",
       "      <td>871200.000000</td>\n",
       "    </tr>\n",
       "  </tbody>\n",
       "</table>\n",
       "</div>"
      ],
      "text/plain": [
       "                 id         price      bedrooms     bathrooms   sqft_living  \\\n",
       "count  2.159600e+04  2.159600e+04  21596.000000  21596.000000  21596.000000   \n",
       "mean   4.580575e+09  5.402920e+05      3.371828      2.115843   2080.343165   \n",
       "std    2.876764e+09  3.673760e+05      0.904114      0.768998    918.122038   \n",
       "min    1.000102e+06  7.800000e+04      1.000000      0.500000    370.000000   \n",
       "25%    2.123049e+09  3.220000e+05      3.000000      1.750000   1430.000000   \n",
       "50%    3.904930e+09  4.500000e+05      3.000000      2.250000   1910.000000   \n",
       "75%    7.308950e+09  6.450000e+05      4.000000      2.500000   2550.000000   \n",
       "max    9.900000e+09  7.700000e+06     11.000000      8.000000  13540.000000   \n",
       "\n",
       "           sqft_lot        floors    sqft_above  sqft_basement      yr_built  \\\n",
       "count  2.159600e+04  21596.000000  21596.000000   21596.000000  21596.000000   \n",
       "mean   1.509983e+04      1.494119   1788.631506     285.702954   1971.000787   \n",
       "std    4.141355e+04      0.539685    827.763251     439.825454     29.375460   \n",
       "min    5.200000e+02      1.000000    370.000000       0.000000   1900.000000   \n",
       "25%    5.040000e+03      1.000000   1190.000000       0.000000   1951.000000   \n",
       "50%    7.619000e+03      1.500000   1560.000000       0.000000   1975.000000   \n",
       "75%    1.068550e+04      2.000000   2210.000000     550.000000   1997.000000   \n",
       "max    1.651359e+06      3.500000   9410.000000    4820.000000   2015.000000   \n",
       "\n",
       "       yr_renovated       zipcode           lat          long  sqft_living15  \\\n",
       "count  21596.000000  21596.000000  21596.000000  21596.000000   21596.000000   \n",
       "mean      68.761391  98077.950685     47.560087   -122.213977    1986.650722   \n",
       "std      364.045627     53.514040      0.138552      0.140725     685.231768   \n",
       "min        0.000000  98001.000000     47.155900   -122.519000     399.000000   \n",
       "25%        0.000000  98033.000000     47.471100   -122.328000    1490.000000   \n",
       "50%        0.000000  98065.000000     47.571800   -122.231000    1840.000000   \n",
       "75%        0.000000  98118.000000     47.678000   -122.125000    2360.000000   \n",
       "max     2015.000000  98199.000000     47.777600   -121.315000    6210.000000   \n",
       "\n",
       "          sqft_lot15  \n",
       "count   21596.000000  \n",
       "mean    12758.656649  \n",
       "std     27275.018316  \n",
       "min       651.000000  \n",
       "25%      5100.000000  \n",
       "50%      7620.000000  \n",
       "75%     10083.000000  \n",
       "max    871200.000000  "
      ]
     },
     "execution_count": 67,
     "metadata": {},
     "output_type": "execute_result"
    }
   ],
   "source": [
    "kc_data.describe()"
   ]
  }
 ],
 "metadata": {
  "kernelspec": {
   "display_name": "Python 3 (ipykernel)",
   "language": "python",
   "name": "python3"
  },
  "language_info": {
   "codemirror_mode": {
    "name": "ipython",
    "version": 3
   },
   "file_extension": ".py",
   "mimetype": "text/x-python",
   "name": "python",
   "nbconvert_exporter": "python",
   "pygments_lexer": "ipython3",
   "version": "3.9.13"
  }
 },
 "nbformat": 4,
 "nbformat_minor": 2
}
